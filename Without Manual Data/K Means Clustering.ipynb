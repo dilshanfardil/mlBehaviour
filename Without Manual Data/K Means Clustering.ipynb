{
 "cells": [
  {
   "cell_type": "code",
   "execution_count": 1,
   "metadata": {},
   "outputs": [],
   "source": [
    "import numpy as np\n",
    "from sklearn.cluster import KMeans"
   ]
  },
  {
   "cell_type": "code",
   "execution_count": 2,
   "metadata": {},
   "outputs": [],
   "source": [
    "ccf_train_data = \"./data/2018_4_21_22_38_train.csv\"\n",
    "ccf_test_data = \"./data/2018_4_30_08_33_test.csv\"\n",
    "\n",
    "\n",
    "def load_data(filepath):\n",
    "    from numpy import genfromtxt\n",
    "\n",
    "    csv_data = genfromtxt(filepath, delimiter=\",\", skip_header=1)\n",
    "    data = []\n",
    "    labels = []\n",
    "\n",
    "    for d in csv_data:\n",
    "        data.append(d[:-1])\n",
    "        labels.append(d[-1])\n",
    "\n",
    "    return np.array(data), np.array(labels)\n",
    "\n",
    "train_dataset, train_labels = load_data(ccf_train_data)\n",
    "test_dataset, test_labels = load_data(ccf_test_data)"
   ]
  },
  {
   "cell_type": "code",
   "execution_count": 3,
   "metadata": {},
   "outputs": [
    {
     "data": {
      "text/plain": [
       "array([0, 0, 0, ..., 0, 0, 0])"
      ]
     },
     "execution_count": 3,
     "metadata": {},
     "output_type": "execute_result"
    }
   ],
   "source": [
    "predicted_lables = KMeans(n_clusters=2, init='k-means++', n_init=10, max_iter=300,).fit_predict(train_dataset)\n",
    "\n",
    "#traning Set labels --> K Mean Clustering\n",
    "predicted_lables"
   ]
  },
  {
   "cell_type": "code",
   "execution_count": 4,
   "metadata": {},
   "outputs": [],
   "source": [
    "missed = 0;\n",
    "for i in range(0,len(predicted_lables)):\n",
    "    if predicted_lables[i] != train_labels[i]:\n",
    "        missed += 1"
   ]
  },
  {
   "cell_type": "code",
   "execution_count": 5,
   "metadata": {},
   "outputs": [
    {
     "name": "stdout",
     "output_type": "stream",
     "text": [
      "Accuracy of the K-Mean Clustering 50.7705053852527\n"
     ]
    }
   ],
   "source": [
    "print(\"Accuracy of the K-Mean Clustering\", (1 - (missed/len(predicted_lables)))*100)"
   ]
  }
 ],
 "metadata": {
  "kernelspec": {
   "display_name": "Python 3",
   "language": "python",
   "name": "python3"
  },
  "language_info": {
   "codemirror_mode": {
    "name": "ipython",
    "version": 3
   },
   "file_extension": ".py",
   "mimetype": "text/x-python",
   "name": "python",
   "nbconvert_exporter": "python",
   "pygments_lexer": "ipython3",
   "version": "3.5.6"
  }
 },
 "nbformat": 4,
 "nbformat_minor": 2
}

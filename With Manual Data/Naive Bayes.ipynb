{
 "cells": [
  {
   "cell_type": "code",
   "execution_count": 12,
   "metadata": {},
   "outputs": [],
   "source": [
    "from IPython import embed\n",
    "from matplotlib import colors\n",
    "from matplotlib import pyplot as plt\n",
    "from sklearn import datasets\n",
    "import numpy as np\n",
    "import tensorflow as tf\n",
    "from sklearn.utils.fixes import logsumexp\n",
    "import numpy as np\n",
    "\n",
    "from sklearn.metrics import classification_report,confusion_matrix\n",
    "from sklearn.naive_bayes import GaussianNB"
   ]
  },
  {
   "cell_type": "code",
   "execution_count": 13,
   "metadata": {},
   "outputs": [],
   "source": [
    "ccf_train_data = \"./data/2018_4_21_22_38_train.csv\"\n",
    "ccf_test_data = \"./data/2018_4_30_08_33_test.csv\"\n",
    "\n",
    "\n",
    "def load_data(filepath):\n",
    "    from numpy import genfromtxt\n",
    "\n",
    "    csv_data = genfromtxt(filepath, delimiter=\",\", skip_header=1)\n",
    "    data = []\n",
    "    labels = []\n",
    "\n",
    "    for d in csv_data:\n",
    "        data.append(d[:-1])\n",
    "        labels.append(d[-1])\n",
    "\n",
    "    return np.array(data), np.array(labels)\n",
    "\n",
    "#X #Y\n",
    "train_dataset, train_labels = load_data(ccf_train_data)\n",
    "#X #Y\n",
    "test_dataset, test_labels = load_data(ccf_test_data)"
   ]
  },
  {
   "cell_type": "code",
   "execution_count": 14,
   "metadata": {},
   "outputs": [
    {
     "name": "stdout",
     "output_type": "stream",
     "text": [
      "[[43471  5934]\n",
      " [39774 10821]]\n",
      "             precision    recall  f1-score   support\n",
      "\n",
      "        0.0       0.52      0.88      0.66     49405\n",
      "        1.0       0.65      0.21      0.32     50595\n",
      "\n",
      "avg / total       0.58      0.54      0.49    100000\n",
      "\n"
     ]
    }
   ],
   "source": [
    "    gnb=GaussianNB()\n",
    "    gnb.fit(train_dataset,train_labels)\n",
    "    predictions=gnb.predict(test_dataset)\n",
    "    print(confusion_matrix(test_labels,predictions))\n",
    "    print(classification_report(test_labels,predictions))"
   ]
  },
  {
   "cell_type": "code",
   "execution_count": null,
   "metadata": {},
   "outputs": [],
   "source": []
  }
 ],
 "metadata": {
  "kernelspec": {
   "display_name": "Python 3",
   "language": "python",
   "name": "python3"
  },
  "language_info": {
   "codemirror_mode": {
    "name": "ipython",
    "version": 3
   },
   "file_extension": ".py",
   "mimetype": "text/x-python",
   "name": "python",
   "nbconvert_exporter": "python",
   "pygments_lexer": "ipython3",
   "version": "3.5.6"
  }
 },
 "nbformat": 4,
 "nbformat_minor": 2
}
